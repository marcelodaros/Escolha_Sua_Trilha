{
  "nbformat": 4,
  "nbformat_minor": 0,
  "metadata": {
    "colab": {
      "provenance": [],
      "mount_file_id": "1wvucZVU8f_6YqOefq_Z1cab3Sc2fQY_8",
      "authorship_tag": "ABX9TyNlEoVXeqTTsQihw6zrT4Bd",
      "include_colab_link": true
    },
    "kernelspec": {
      "name": "python3",
      "display_name": "Python 3"
    },
    "language_info": {
      "name": "python"
    }
  },
  "cells": [
    {
      "cell_type": "markdown",
      "metadata": {
        "id": "view-in-github",
        "colab_type": "text"
      },
      "source": [
        "<a href=\"https://colab.research.google.com/github/marcelodaros/Escolha_Sua_Trilha/blob/main/ImersaoAluraIA_Projeto_Final_Escolha_sua_Trilha.ipynb\" target=\"_parent\"><img src=\"https://colab.research.google.com/assets/colab-badge.svg\" alt=\"Open In Colab\"/></a>"
      ]
    },
    {
      "cell_type": "markdown",
      "source": [
        "Instalações do Google Generative AI e do PyMuPDF, para ler PDFs."
      ],
      "metadata": {
        "id": "l3CiseBhlzPz"
      }
    },
    {
      "cell_type": "code",
      "source": [
        "!pip install -q -U google-generativeai"
      ],
      "metadata": {
        "id": "-cvZVtVGdIGL"
      },
      "execution_count": 86,
      "outputs": []
    },
    {
      "cell_type": "code",
      "source": [
        "!pip install -q -U PyMuPDF"
      ],
      "metadata": {
        "colab": {
          "base_uri": "https://localhost:8080/"
        },
        "id": "GvURDMG_ZOJi",
        "outputId": "de8fbe0d-f7bc-4144-812e-75104b7008cd"
      },
      "execution_count": 1,
      "outputs": [
        {
          "output_type": "stream",
          "name": "stdout",
          "text": [
            "\u001b[2K     \u001b[90m━━━━━━━━━━━━━━━━━━━━━━━━━━━━━━━━━━━━━━━━\u001b[0m \u001b[32m3.5/3.5 MB\u001b[0m \u001b[31m7.2 MB/s\u001b[0m eta \u001b[36m0:00:00\u001b[0m\n",
            "\u001b[2K     \u001b[90m━━━━━━━━━━━━━━━━━━━━━━━━━━━━━━━━━━━━━━━━\u001b[0m \u001b[32m15.8/15.8 MB\u001b[0m \u001b[31m24.3 MB/s\u001b[0m eta \u001b[36m0:00:00\u001b[0m\n",
            "\u001b[?25h"
          ]
        }
      ]
    },
    {
      "cell_type": "markdown",
      "source": [
        "Conecta no seu GoogleDrive para acessar os PDFs de base."
      ],
      "metadata": {
        "id": "PNWBkWBGl7tV"
      }
    },
    {
      "cell_type": "code",
      "source": [
        "# Conectando com Google Drive para acessar as notas a serem classificadas\n",
        "from google.colab import drive\n",
        "drive.mount('/content/drive')"
      ],
      "metadata": {
        "colab": {
          "base_uri": "https://localhost:8080/"
        },
        "id": "M4Ojd1fUixIN",
        "outputId": "bd1cdee5-fd2a-4289-8d55-9b116d2bdae4"
      },
      "execution_count": 2,
      "outputs": [
        {
          "output_type": "stream",
          "name": "stdout",
          "text": [
            "Drive already mounted at /content/drive; to attempt to forcibly remount, call drive.mount(\"/content/drive\", force_remount=True).\n"
          ]
        }
      ]
    },
    {
      "cell_type": "markdown",
      "source": [
        "**Configurando o Modelo**"
      ],
      "metadata": {
        "id": "xpdypjXadQ_3"
      }
    },
    {
      "cell_type": "code",
      "execution_count": 3,
      "metadata": {
        "id": "9naatXNDcn4B"
      },
      "outputs": [],
      "source": [
        "# Importacao das bibliotecas que iremos usar\n",
        "from pathlib import Path\n",
        "import hashlib\n",
        "import google.generativeai as genai\n",
        "import fitz\n",
        "import os\n",
        "\n",
        "# Configuracao da sua API_KEY do Google, acesse o menu do lado para\n",
        "# adicionar ela de forma segura\n",
        "\n",
        "from google.colab import userdata\n",
        "genai.configure(api_key=userdata.get('API_KEY'))\n",
        "\n",
        "# Configurando o modelo da AI que iremos utilizar\n",
        "generation_config = {\n",
        "  \"temperature\": 0.5,\n",
        "}\n",
        "\n",
        "safety_settings = [\n",
        "  {\n",
        "    \"category\": \"HARM_CATEGORY_HARASSMENT\",\n",
        "    \"threshold\": \"BLOCK_MEDIUM_AND_ABOVE\"\n",
        "  },\n",
        "  {\n",
        "    \"category\": \"HARM_CATEGORY_HATE_SPEECH\",\n",
        "    \"threshold\": \"BLOCK_MEDIUM_AND_ABOVE\"\n",
        "  },\n",
        "  {\n",
        "    \"category\": \"HARM_CATEGORY_SEXUALLY_EXPLICIT\",\n",
        "    \"threshold\": \"BLOCK_MEDIUM_AND_ABOVE\"\n",
        "  },\n",
        "  {\n",
        "    \"category\": \"HARM_CATEGORY_DANGEROUS_CONTENT\",\n",
        "    \"threshold\": \"BLOCK_MEDIUM_AND_ABOVE\"\n",
        "  },\n",
        "]\n",
        "\n",
        "model = genai.GenerativeModel(model_name=\"gemini-1.5-pro-latest\",\n",
        "                              generation_config=generation_config,\n",
        "                              safety_settings=safety_settings)\n"
      ]
    },
    {
      "cell_type": "markdown",
      "source": [
        "Fazendo a extração do conteúdo dos PDFs base para nosso ChatBot"
      ],
      "metadata": {
        "id": "B66yUw9OmUb5"
      }
    },
    {
      "cell_type": "code",
      "source": [
        "# Funcao para extrair o texto das paginas dos arquivos PDF.\n",
        "\n",
        "def extract_pdf_pages(pathname: str) -> list[str]:\n",
        "  parts = [f\"--- START OF PDF ${pathname} ---\"]\n",
        "\n",
        "  # Abre o arquivo utilizando o PyMuPDF (fitz)\n",
        "  with fitz.open(pathname) as doc:\n",
        "    pages = []\n",
        "    for page in doc:\n",
        "      text = page.get_text()\n",
        "      pages.append(text)\n",
        "\n",
        "  for index, page in enumerate(pages):\n",
        "    parts.append(f\"--- PAGE {index} ---\")\n",
        "    parts.append(page)\n",
        "  return parts\n",
        "\n",
        "# Criamos os prompts iniciais, que serão a base do nosso ChatBot\n",
        "# troque o path_in_drive pelo caminho que está no seu Drive os arquivos\n",
        "# se tiver dúvidas, acesse o vídeo na página do GitHub do projeto.\n",
        "prompt_parts = [\n",
        "  extract_pdf_pages(\"/path_in_drive/manual_estruturacao.pdf\"),\n",
        "  extract_pdf_pages(\"/path_in_drive/trilhas_do_brasil.pdf\"),\n",
        "  \"\\nBaseado nesses dois documentos, aja como um agente de turismo, pronto para tirar as dúvidas do cliente sobre as trilhas de longo alcance que temos no Brasil.\",\n",
        "]"
      ],
      "metadata": {
        "id": "pcTLOFmIZXTZ"
      },
      "execution_count": 4,
      "outputs": []
    },
    {
      "cell_type": "code",
      "source": [
        "# Inicializa o Chat com nosso histórico\n",
        "chat = model.start_chat(history=[\n",
        "    {\n",
        "        \"role\": \"user\",\n",
        "        \"parts\": prompt_parts[0]\n",
        "    },\n",
        "    {\n",
        "        \"role\": \"user\",\n",
        "        \"parts\": prompt_parts[1]\n",
        "    },\n",
        "    {\n",
        "        \"role\": \"user\",\n",
        "        \"parts\": prompt_parts[2]\n",
        "    },\n",
        "])"
      ],
      "metadata": {
        "id": "EoIuriYTaZh4"
      },
      "execution_count": 5,
      "outputs": []
    },
    {
      "cell_type": "markdown",
      "source": [
        "# Utilizando o ChatBot\n",
        "Lembre-se de rodar todas as linhas anteriores, para que o ChatBot funcione\n",
        "de forma correta."
      ],
      "metadata": {
        "id": "JEW2JopunBld"
      }
    },
    {
      "cell_type": "code",
      "source": [
        "# Importacao de algumas bibliotecas para deixar o texto mais bonito\n",
        "import textwrap\n",
        "from IPython.display import display\n",
        "from IPython.display import Markdown\n",
        "\n",
        "def to_markdown(text):\n",
        "  text = text.replace('•', '  *')\n",
        "  return Markdown(textwrap.indent(text, '> ', predicate=lambda _: True))\n",
        "\n",
        "# Iniciando o Chat com uma mensagem explicativa sobre o que ele faz\n",
        "response = chat.send_message(\"Crie uma introdução simples, explicando que você vai ajudar a pessoa a escolher um trilha. Avise que quando ela quiser terminar o chat, basta escrever FIM,\")\n",
        "display(to_markdown(response.text))\n",
        "prompt = input(\"Envie sua mensagem: \")\n",
        "\n",
        "# Loop de utilizacao do ChatBot\n",
        "while prompt != \"FIM\":\n",
        "  response = chat.send_message(prompt)\n",
        "  display(to_markdown(f\"{response.text}\"))\n",
        "  print('-------------------------------------')\n",
        "  prompt = input(\"Envie sua mensagem: \")"
      ],
      "metadata": {
        "colab": {
          "base_uri": "https://localhost:8080/",
          "height": 1000
        },
        "id": "taSIsf2_btH8",
        "outputId": "663a5c43-b1ae-4402-ce6f-f0ac37853645"
      },
      "execution_count": 6,
      "outputs": [
        {
          "output_type": "display_data",
          "data": {
            "text/plain": [
              "<IPython.core.display.Markdown object>"
            ],
            "text/markdown": "> Olá! É com muita alegria que te recebo aqui para te ajudar a desvendar as maravilhas das trilhas de longo curso do Brasil. 🧭🌳\n> \n> Se você busca aventura, contato com a natureza e paisagens de tirar o fôlego, está no lugar certo! Me conte sobre seus desejos, tempo disponível, nível de experiência e qualquer preferência que tenha, como bioma, modalidade (caminhada, ciclismo, etc.) ou tipo de experiência que busca. \n> \n> Juntos, vamos encontrar a trilha perfeita para você! 😉\n> \n> **Quando quiser encerrar o chat, basta digitar FIM.**\n> \n> Aguardo ansiosamente para te ajudar a planejar sua próxima grande aventura! 😄\n"
          },
          "metadata": {}
        },
        {
          "name": "stdout",
          "output_type": "stream",
          "text": [
            "Envie sua mensagem: Estou em Minas Gerais, me indique algumas trilhas que posso fazer por aqui.\n"
          ]
        },
        {
          "output_type": "display_data",
          "data": {
            "text/plain": [
              "<IPython.core.display.Markdown object>"
            ],
            "text/markdown": "> Minas Gerais, que beleza! 🤩 É um estado riquíssimo em trilhas de longo curso, com opções para todos os gostos e níveis de experiência. Para te indicar as melhores trilhas para você, preciso entender melhor seu perfil. Me conte:\n> \n> 1. **Qual o seu nível de experiência em trilhas?** (Iniciante, intermediário, avançado)\n> 2. **Quanto tempo você tem disponível para a aventura?** (Dias, semanas)\n> 3. **Prefere trilhas mais desafiadoras, com subidas e paisagens montanhosas, ou algo mais tranquilo?**\n> 4. **Tem interesse em algum bioma específico?** Minas Gerais tem trilhas que passam pela Mata Atlântica e pelo Cerrado.\n> 5. **Qual modalidade te interessa mais?** (Caminhada, ciclismo, cavalgada)\n> \n> Com essas informações, posso te guiar pelas trilhas mineiras e te ajudar a escolher a que mais combina com você! 😉 \n"
          },
          "metadata": {}
        },
        {
          "name": "stdout",
          "output_type": "stream",
          "text": [
            "-------------------------------------\n",
            "Envie sua mensagem: Sou iniciante, tenho 2 dias e prefiro trilhas mais tranquilas, que sejam no cerrado e que seja por caminhada.\n"
          ]
        },
        {
          "output_type": "display_data",
          "data": {
            "text/plain": [
              "<IPython.core.display.Markdown object>"
            ],
            "text/markdown": "> Ótimo! 😄 Minas Gerais tem opções perfeitas para iniciantes que buscam trilhas tranquilas no Cerrado. Considerando que você tem 2 dias disponíveis, recomendo dois trechos do **Caminho do Sertão**, uma trilha que te leva ao universo do escritor Guimarães Rosa:\n> \n> **1. Trecho de Sagarana a Urucuia:** \n> * Distância: 24km (pode ser dividido em 2 dias, com pernoite em Urucuia).\n> * Dificuldade: Moderada (alguns trechos com subidas leves).\n> * Belezas: Caminho margeando o Rio Urucuia, paisagens típicas do Cerrado, visita a comunidades locais e imersão na cultura sertaneja. \n> \n> **2. Trecho de Urucuia a Riachinho:**\n> * Distância: 28km (também pode ser dividido em 2 dias, com pernoite em Riachinho).\n> * Dificuldade: Moderada (similar ao trecho anterior).\n> * Belezas: Passagem por fazendas históricas, travessia de riachos, paisagens bucólicas e contato com a culinária local.\n> \n> Ambos os trechos oferecem boa estrutura de apoio, com pousadas e restaurantes para sua comodidade. \n> \n> **Outras informações importantes:**\n> \n> * Época ideal: Evite os meses mais chuvosos (dezembro a março).\n> * O que levar: Roupas confortáveis, calçados adequados para trilha, protetor solar, repelente, chapéu, água e lanches.\n> \n> Lembre-se: mesmo em trilhas mais tranquilas, é fundamental se preparar e se informar sobre as condições do percurso. Entre em contato com os gestores da trilha para confirmar as informações e garantir uma experiência segura e inesquecível! 😉\n> \n> Gostaria de saber mais sobre algum desses trechos? Ou prefere que eu te apresente outras opções? 😊 \n"
          },
          "metadata": {}
        },
        {
          "name": "stdout",
          "output_type": "stream",
          "text": [
            "-------------------------------------\n",
            "Envie sua mensagem: Quero a primeira opção\n"
          ]
        },
        {
          "output_type": "display_data",
          "data": {
            "text/plain": [
              "<IPython.core.display.Markdown object>"
            ],
            "text/markdown": "> Excelente escolha! 😊 O trecho de Sagarana a Urucuia é realmente encantador e perfeito para uma imersão suave no universo do sertão mineiro. \n> \n> Vou te passar algumas dicas para você planejar essa aventura:\n> \n> **Informações importantes:**\n> \n> * **Contato:**  Recomendo entrar em contato com o Instituto Rosa e Sertão, responsável pela gestão do Caminho do Sertão. Eles podem te passar informações atualizadas sobre a trilha, condições do percurso, estrutura de apoio e dicas de segurança. O email deles é: caminhodosertao@gmail.com;  rosaceasinstituto@gmail.com\n> * **Como chegar:** Partindo de Brasília, você pode pegar um ônibus para Arinos (MG). De lá, é possível contratar um transporte local para te levar até Sagarana, ponto de partida da trilha. \n> * **Hospedagem:** Em Urucuia, você encontra pousadas charmosas e aconchegantes, com opções para todos os bolsos. \n> * **Alimentação:** A culinária local é rica em sabores e aromas do Cerrado. Aproveite para experimentar pratos típicos, como o frango com pequi e a carne de sol com mandioca.\n> * **Atrativos:** Além das belezas naturais do percurso, você pode visitar a casa onde Guimarães Rosa passou parte da sua infância em Urucuia, hoje transformada em museu. \n> \n> **Dicas extras:**\n> \n> * Leve um bom livro de Guimarães Rosa para ler durante a trilha e se inspirar ainda mais com a paisagem.\n> * Converse com os moradores locais! Eles são os melhores guias para te apresentar as histórias, lendas e costumes do sertão.\n> * Registre cada momento! A beleza do Cerrado rende fotos incríveis.\n> \n> Tenho certeza de que você vai amar essa experiência! 😊\n> \n> Deseja saber mais alguma coisa sobre esse trecho? Ou quer que eu te ajude com algum outro aspecto da sua viagem? 😄 \n"
          },
          "metadata": {}
        },
        {
          "name": "stdout",
          "output_type": "stream",
          "text": [
            "-------------------------------------\n",
            "Envie sua mensagem: Não estou em Brasília, estou em Belo Horizonte, qual a melhor forma de chegar em Sagarana?\n"
          ]
        },
        {
          "output_type": "display_data",
          "data": {
            "text/plain": [
              "<IPython.core.display.Markdown object>"
            ],
            "text/markdown": "> Ah, entendi! 😊 Para chegar em Sagarana partindo de Belo Horizonte, a melhor opção é ir de ônibus até Arinos (MG). A viagem dura em torno de 8 horas e você encontra diversas empresas que fazem esse trajeto, como a Gontijo e a Pássaro Verde. \n> \n> Chegando em Arinos, você pode contratar um transporte local (táxi ou carro particular) para te levar até Sagarana, que fica a cerca de 30km de distância. \n> \n> **Dica:** Entre em contato com as pousadas de Urucuia com antecedência. Algumas delas oferecem serviço de transfer de Arinos para Sagarana e de Urucuia de volta para Arinos, o que pode facilitar bastante sua logística. 😉\n> \n> Te ajudei com a sua dúvida? 😊 Tem mais alguma pergunta? \n"
          },
          "metadata": {}
        },
        {
          "name": "stdout",
          "output_type": "stream",
          "text": [
            "-------------------------------------\n",
            "Envie sua mensagem: FIM\n"
          ]
        }
      ]
    }
  ]
}